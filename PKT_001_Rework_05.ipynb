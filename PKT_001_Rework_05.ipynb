{
  "nbformat": 4,
  "nbformat_minor": 0,
  "metadata": {
    "colab": {
      "name": "PKT_001_Rework_05.ipynb",
      "provenance": [],
      "authorship_tag": "ABX9TyNCeLPAKohID/hUP3huzxwv",
      "include_colab_link": true
    },
    "kernelspec": {
      "name": "python3",
      "display_name": "Python 3"
    }
  },
  "cells": [
    {
      "cell_type": "markdown",
      "metadata": {
        "id": "view-in-github",
        "colab_type": "text"
      },
      "source": [
        "<a href=\"https://colab.research.google.com/github/son50git/PKT_001_Sentiment_Keras/blob/master/PKT_001_Rework_05.ipynb\" target=\"_parent\"><img src=\"https://colab.research.google.com/assets/colab-badge.svg\" alt=\"Open In Colab\"/></a>"
      ]
    },
    {
      "cell_type": "code",
      "metadata": {
        "id": "3cYtIojwbcm3"
      },
      "source": [
        "from __future__ import print_function\n",
        "import numpy as np \n",
        "np.random.seed(1337)"
      ],
      "execution_count": 24,
      "outputs": []
    },
    {
      "cell_type": "code",
      "metadata": {
        "id": "ou1BXbUpbjXC"
      },
      "source": [
        "import keras\n",
        "from keras.datasets import cifar10\n",
        "from keras.models import Sequential\n",
        "from keras.layers import Dense, Dropout, Activation, Flatten, MaxPooling2D\n",
        "from keras.layers import Conv2D"
      ],
      "execution_count": 25,
      "outputs": []
    },
    {
      "cell_type": "code",
      "metadata": {
        "id": "OdOk8EJqbmWE"
      },
      "source": [
        "batch_size = 32\n",
        "num_classes = 10\n",
        "epochs = 5"
      ],
      "execution_count": 26,
      "outputs": []
    },
    {
      "cell_type": "code",
      "metadata": {
        "colab": {
          "base_uri": "https://localhost:8080/"
        },
        "id": "mHGNG9YNbpDQ",
        "outputId": "4b1c20ed-02a1-4ef9-9b0d-ed70835db26d"
      },
      "source": [
        "# The data, shuffled and split between train and test sets:\n",
        "(x_train, y_train), (x_test, y_test) = cifar10.load_data()\n",
        "\n",
        "x_train = x_train.astype('float32')\n",
        "x_test = x_test.astype('float32')\n",
        "x_train /= 255\n",
        "x_test /= 255\n",
        "\n",
        "print('x_train shape:', x_train.shape)\n",
        "print(x_train.shape[0], 'train samples')\n",
        "print(x_test.shape[0], 'test samples')"
      ],
      "execution_count": 27,
      "outputs": [
        {
          "output_type": "stream",
          "text": [
            "x_train shape: (50000, 32, 32, 3)\n",
            "50000 train samples\n",
            "10000 test samples\n"
          ],
          "name": "stdout"
        }
      ]
    },
    {
      "cell_type": "code",
      "metadata": {
        "id": "ZUJqkM14bt6F"
      },
      "source": [
        "# Convert class vectors to binary class matrices.\n",
        "y_train = keras.utils.to_categorical(y_train, num_classes)\n",
        "y_test = keras.utils.to_categorical(y_test, num_classes)"
      ],
      "execution_count": 28,
      "outputs": []
    },
    {
      "cell_type": "code",
      "metadata": {
        "id": "w1K63GZlbw61"
      },
      "source": [
        "model = Sequential()\n",
        "\n",
        "# from keras.layers.Conv2D\n",
        "# filters: Integer, the dimensionality of the output space (i.e. the number of output filters in the convolution).\n",
        "# kernel_size: An integer or tuple/list of 2 integers, specifying the height and width of the 2D convolution window. \n",
        "# Can be a single integer to specify the same value for all spatial dimensions.\n",
        "\n",
        "model.add(Conv2D(16, (3, 3), padding='same', input_shape=x_train.shape[1:]))\n",
        "\n",
        "model.add(Activation('relu'))\n",
        "\n",
        "model.add(MaxPooling2D(pool_size=(2, 2)))\n",
        "model.add(Dropout(0.25))    # new layer here # DIFFER from PKT_001_Rework_04\n",
        "\n",
        "model.add(Conv2D(8, (3, 3)))\n",
        "model.add(Activation('relu'))\n",
        "\n",
        "model.add(Flatten())\n",
        "\n",
        "model.add(Dense(num_classes))\n",
        "model.add(Activation('softmax'))"
      ],
      "execution_count": 29,
      "outputs": []
    },
    {
      "cell_type": "code",
      "metadata": {
        "id": "Qte5h7X6cAjS"
      },
      "source": [
        "# initiate RMSprop optimizer\n",
        "import tensorflow as tf\n",
        "\n",
        "# opt = keras.optimizers.rmsprop(lr=0.0001, decay=1e-6) # this original line doesn't work\n",
        "opt = tf.keras.optimizers.RMSprop(lr=0.0001, decay=1e-6)\n",
        "\n",
        "# Let's train the model using RMSprop\n",
        "model.compile(loss='categorical_crossentropy',\n",
        "              optimizer=opt,\n",
        "              metrics=['accuracy'])"
      ],
      "execution_count": 30,
      "outputs": []
    },
    {
      "cell_type": "code",
      "metadata": {
        "colab": {
          "base_uri": "https://localhost:8080/"
        },
        "id": "1LTVT7jJcBVX",
        "outputId": "747f50ef-d895-4dc6-c8c3-9265995b98d9"
      },
      "source": [
        "model.fit(x_train, y_train,\n",
        "          batch_size=batch_size,\n",
        "          epochs=epochs,\n",
        "          validation_data=(x_test, y_test))"
      ],
      "execution_count": 31,
      "outputs": [
        {
          "output_type": "stream",
          "text": [
            "Epoch 1/5\n",
            "1563/1563 [==============================] - 39s 25ms/step - loss: 2.0040 - accuracy: 0.2740 - val_loss: 1.7859 - val_accuracy: 0.3825\n",
            "Epoch 2/5\n",
            "1563/1563 [==============================] - 39s 25ms/step - loss: 1.7185 - accuracy: 0.3940 - val_loss: 1.6127 - val_accuracy: 0.4325\n",
            "Epoch 3/5\n",
            "1563/1563 [==============================] - 39s 25ms/step - loss: 1.5951 - accuracy: 0.4365 - val_loss: 1.5286 - val_accuracy: 0.4512\n",
            "Epoch 4/5\n",
            "1563/1563 [==============================] - 39s 25ms/step - loss: 1.5292 - accuracy: 0.4596 - val_loss: 1.4832 - val_accuracy: 0.4734\n",
            "Epoch 5/5\n",
            "1563/1563 [==============================] - 39s 25ms/step - loss: 1.4876 - accuracy: 0.4710 - val_loss: 1.4562 - val_accuracy: 0.4860\n"
          ],
          "name": "stdout"
        },
        {
          "output_type": "execute_result",
          "data": {
            "text/plain": [
              "<tensorflow.python.keras.callbacks.History at 0x7f5b4103e550>"
            ]
          },
          "metadata": {
            "tags": []
          },
          "execution_count": 31
        }
      ]
    }
  ]
}