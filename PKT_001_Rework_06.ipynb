{
  "nbformat": 4,
  "nbformat_minor": 0,
  "metadata": {
    "colab": {
      "name": "PKT_001_Rework_06.ipynb",
      "provenance": [],
      "authorship_tag": "ABX9TyMSIneD785/oUcNyItxNu70",
      "include_colab_link": true
    },
    "kernelspec": {
      "name": "python3",
      "display_name": "Python 3"
    }
  },
  "cells": [
    {
      "cell_type": "markdown",
      "metadata": {
        "id": "view-in-github",
        "colab_type": "text"
      },
      "source": [
        "<a href=\"https://colab.research.google.com/github/son50git/PKT_001_Sentiment_Keras/blob/master/PKT_001_Rework_06.ipynb\" target=\"_parent\"><img src=\"https://colab.research.google.com/assets/colab-badge.svg\" alt=\"Open In Colab\"/></a>"
      ]
    },
    {
      "cell_type": "code",
      "metadata": {
        "id": "3cYtIojwbcm3"
      },
      "source": [
        "from __future__ import print_function\n",
        "import numpy as np \n",
        "np.random.seed(1337)"
      ],
      "execution_count": 38,
      "outputs": []
    },
    {
      "cell_type": "code",
      "metadata": {
        "id": "ou1BXbUpbjXC"
      },
      "source": [
        "import keras\n",
        "from keras.datasets import cifar10\n",
        "from keras.models import Sequential, Model  # Sequential not required for this example\n",
        "from keras.layers import Dense, Dropout, Activation, Flatten, MaxPooling2D, Input # Input required\n",
        "from keras.layers import Conv2D"
      ],
      "execution_count": 39,
      "outputs": []
    },
    {
      "cell_type": "code",
      "metadata": {
        "id": "OdOk8EJqbmWE"
      },
      "source": [
        "batch_size = 32\n",
        "num_classes = 10\n",
        "epochs = 5"
      ],
      "execution_count": 40,
      "outputs": []
    },
    {
      "cell_type": "code",
      "metadata": {
        "colab": {
          "base_uri": "https://localhost:8080/"
        },
        "id": "mHGNG9YNbpDQ",
        "outputId": "af139e7e-55b8-4873-b203-e0cc0ec4e00c"
      },
      "source": [
        "# The data, shuffled and split between train and test sets:\n",
        "(x_train, y_train), (x_test, y_test) = cifar10.load_data()\n",
        "\n",
        "x_train = x_train.astype('float32')\n",
        "x_test = x_test.astype('float32')\n",
        "x_train /= 255\n",
        "x_test /= 255\n",
        "\n",
        "print('x_train shape:', x_train.shape)\n",
        "print(x_train.shape[0], 'train samples')\n",
        "print(x_test.shape[0], 'test samples')"
      ],
      "execution_count": 41,
      "outputs": [
        {
          "output_type": "stream",
          "text": [
            "x_train shape: (50000, 32, 32, 3)\n",
            "50000 train samples\n",
            "10000 test samples\n"
          ],
          "name": "stdout"
        }
      ]
    },
    {
      "cell_type": "code",
      "metadata": {
        "id": "ZUJqkM14bt6F"
      },
      "source": [
        "# Convert class vectors to binary class matrices.\n",
        "y_train = keras.utils.to_categorical(y_train, num_classes)\n",
        "y_test = keras.utils.to_categorical(y_test, num_classes)"
      ],
      "execution_count": 42,
      "outputs": []
    },
    {
      "cell_type": "code",
      "metadata": {
        "id": "w1K63GZlbw61"
      },
      "source": [
        "model = Sequential()\n",
        "\n",
        "# from keras.layers.Conv2D\n",
        "# filters: Integer, the dimensionality of the output space (i.e. the number of output filters in the convolution).\n",
        "# kernel_size: An integer or tuple/list of 2 integers, specifying the height and width of the 2D convolution window. \n",
        "# Can be a single integer to specify the same value for all spatial dimensions.\n",
        "\n",
        "inputs = Input(shape=(32, 32, 3))\n",
        "\n",
        "x = Conv2D(16, (3, 3), padding='same')(inputs) \n",
        "x = Activation('relu')(x) \n",
        "\n",
        "x = Conv2D(8, (3, 3))(x) \n",
        "x = Activation('relu')(x) \n",
        "x = MaxPooling2D(pool_size=(2, 2))(x) \n",
        "x = Flatten()(x) \n",
        "\n",
        "x = Dense(num_classes)(x) \n",
        "\n",
        "output = Activation('softmax')(x)"
      ],
      "execution_count": 43,
      "outputs": []
    },
    {
      "cell_type": "code",
      "metadata": {
        "id": "SFxjqQvh5-gu"
      },
      "source": [
        "model = Model([inputs], output)\n"
      ],
      "execution_count": 44,
      "outputs": []
    },
    {
      "cell_type": "code",
      "metadata": {
        "colab": {
          "base_uri": "https://localhost:8080/"
        },
        "id": "oVFczUo-6eJ-",
        "outputId": "5b7c8163-e194-406a-c0d6-fe89d2a12d93"
      },
      "source": [
        "model.summary()"
      ],
      "execution_count": 45,
      "outputs": [
        {
          "output_type": "stream",
          "text": [
            "Model: \"functional_1\"\n",
            "_________________________________________________________________\n",
            "Layer (type)                 Output Shape              Param #   \n",
            "=================================================================\n",
            "input_1 (InputLayer)         [(None, 32, 32, 3)]       0         \n",
            "_________________________________________________________________\n",
            "conv2d_6 (Conv2D)            (None, 32, 32, 16)        448       \n",
            "_________________________________________________________________\n",
            "activation_8 (Activation)    (None, 32, 32, 16)        0         \n",
            "_________________________________________________________________\n",
            "conv2d_7 (Conv2D)            (None, 30, 30, 8)         1160      \n",
            "_________________________________________________________________\n",
            "activation_9 (Activation)    (None, 30, 30, 8)         0         \n",
            "_________________________________________________________________\n",
            "max_pooling2d_2 (MaxPooling2 (None, 15, 15, 8)         0         \n",
            "_________________________________________________________________\n",
            "flatten_2 (Flatten)          (None, 1800)              0         \n",
            "_________________________________________________________________\n",
            "dense_2 (Dense)              (None, 10)                18010     \n",
            "_________________________________________________________________\n",
            "activation_10 (Activation)   (None, 10)                0         \n",
            "=================================================================\n",
            "Total params: 19,618\n",
            "Trainable params: 19,618\n",
            "Non-trainable params: 0\n",
            "_________________________________________________________________\n"
          ],
          "name": "stdout"
        }
      ]
    },
    {
      "cell_type": "code",
      "metadata": {
        "id": "Qte5h7X6cAjS"
      },
      "source": [
        "# initiate RMSprop optimizer\n",
        "import tensorflow as tf\n",
        "\n",
        "# opt = keras.optimizers.rmsprop(lr=0.0001, decay=1e-6) # this original line doesn't work\n",
        "opt = tf.keras.optimizers.RMSprop(lr=0.0001, decay=1e-6)\n",
        "\n",
        "# Let's train the model using RMSprop\n",
        "model.compile(loss='categorical_crossentropy',\n",
        "              optimizer=opt,\n",
        "              metrics=['accuracy'])"
      ],
      "execution_count": 46,
      "outputs": []
    },
    {
      "cell_type": "code",
      "metadata": {
        "colab": {
          "base_uri": "https://localhost:8080/"
        },
        "id": "1LTVT7jJcBVX",
        "outputId": "76d2fe4b-5fbd-4afb-c905-77854fbe6e20"
      },
      "source": [
        "model.fit(x_train, y_train,\n",
        "          batch_size=batch_size,\n",
        "          epochs=epochs,\n",
        "          validation_data=(x_test, y_test))"
      ],
      "execution_count": 47,
      "outputs": [
        {
          "output_type": "stream",
          "text": [
            "Epoch 1/5\n",
            "1563/1563 [==============================] - 60s 38ms/step - loss: 1.9838 - accuracy: 0.3025 - val_loss: 1.7912 - val_accuracy: 0.3854\n",
            "Epoch 2/5\n",
            "1563/1563 [==============================] - 59s 38ms/step - loss: 1.7223 - accuracy: 0.4025 - val_loss: 1.6562 - val_accuracy: 0.4297\n",
            "Epoch 3/5\n",
            "1563/1563 [==============================] - 60s 38ms/step - loss: 1.6285 - accuracy: 0.4354 - val_loss: 1.6174 - val_accuracy: 0.4361\n",
            "Epoch 4/5\n",
            "1563/1563 [==============================] - 59s 38ms/step - loss: 1.5724 - accuracy: 0.4523 - val_loss: 1.5432 - val_accuracy: 0.4644\n",
            "Epoch 5/5\n",
            "1563/1563 [==============================] - 59s 38ms/step - loss: 1.5287 - accuracy: 0.4670 - val_loss: 1.5241 - val_accuracy: 0.4660\n"
          ],
          "name": "stdout"
        },
        {
          "output_type": "execute_result",
          "data": {
            "text/plain": [
              "<tensorflow.python.keras.callbacks.History at 0x7f5b40681e10>"
            ]
          },
          "metadata": {
            "tags": []
          },
          "execution_count": 47
        }
      ]
    }
  ]
}